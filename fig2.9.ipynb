{
 "cells": [
  {
   "cell_type": "code",
   "execution_count": 8,
   "metadata": {},
   "outputs": [
    {
     "name": "stdout",
     "output_type": "stream",
     "text": [
      "Populating the interactive namespace from numpy and matplotlib\n"
     ]
    }
   ],
   "source": [
    "%pylab inline\n",
    "from sklearn.neighbors import KNeighborsRegressor\n",
    "# import numpy as np"
   ]
  },
  {
   "cell_type": "code",
   "execution_count": 9,
   "metadata": {
    "collapsed": true
   },
   "outputs": [],
   "source": [
    "def add_const(X):\n",
    "    X = np.array(X, float)\n",
    "    X = np.hstack((X, np.ones((X.shape[0], 1), float)))\n",
    "    return X\n",
    "\n",
    "def ols(X, y):\n",
    "    X = add_const(X)\n",
    "    beta = np.dot(np.dot(np.linalg.inv(np.dot(X.T, X)), X.T), y.reshape(-1, 1))\n",
    "    return beta\n",
    "def ols_err(X, y, x_test, y_test):\n",
    "    beta = ols(X, y)\n",
    "#     print(beta.shape, x_test.shape)\n",
    "    x_test = add_const(x_test)\n",
    "    err = np.dot(x_test, beta)-y_test\n",
    "#     print(\"beta: \", beta)\n",
    "#     print(\"ols err: \", err)\n",
    "    return err"
   ]
  },
  {
   "cell_type": "code",
   "execution_count": 10,
   "metadata": {
    "collapsed": true
   },
   "outputs": [],
   "source": [
    "def knn(X, y):\n",
    "    return KNeighborsRegressor(\n",
    "        n_neighbors=1, weights='uniform', algorithm='auto',\n",
    "        leaf_size=30, p=2, metric='minkowski', metric_params=None, \n",
    "        n_jobs=2).fit(X, y)\n",
    "def knn_err(X, y, x_test, y_test):\n",
    "    knn_ = knn(X, y)\n",
    "    err = knn_.predict(x_test)-y_test\n",
    "#     print(\"knn err: \", err)\n",
    "    return err"
   ]
  },
  {
   "cell_type": "code",
   "execution_count": 11,
   "metadata": {
    "collapsed": true
   },
   "outputs": [],
   "source": [
    "def f1(X):\n",
    "    X = np.array(X, float)\n",
    "    return X[:, 0]\n",
    "def f3(X):\n",
    "    X = np.array(X, float)\n",
    "    return 0.5*(X[:, 0]+1)**3\n",
    "\n",
    "def add_noise(y, varnoise):\n",
    "    y = np.array(y, float)\n",
    "    return y+np.random.randn(*y.shape)*varnoise\n",
    "    "
   ]
  },
  {
   "cell_type": "code",
   "execution_count": 12,
   "metadata": {
    "collapsed": true
   },
   "outputs": [],
   "source": [
    "def mse(data):\n",
    "    return np.mean(np.square(data))"
   ]
  },
  {
   "cell_type": "code",
   "execution_count": 18,
   "metadata": {},
   "outputs": [
    {
     "name": "stdout",
     "output_type": "stream",
     "text": [
      "n_dim:  1\n",
      "n_dim:  2\n",
      "n_dim:  3\n",
      "n_dim:  4\n",
      "n_dim:  5\n",
      "n_dim:  6\n",
      "n_dim:  7\n",
      "n_dim:  8\n",
      "n_dim:  9\n",
      "n_dim:  10\n"
     ]
    }
   ],
   "source": [
    "n_sample = 500\n",
    "varnoise = 1.0\n",
    "n_test = 100\n",
    "\n",
    "ols_err_list = []\n",
    "knn_err_list = []\n",
    "dims = []\n",
    "for n_dim in range(1, 11):\n",
    "    print(\"n_dim: \", n_dim)\n",
    "    dims.append(n_dim)\n",
    "    ols_err_list_ = []\n",
    "    knn_err_list_ = []\n",
    "    for i_test in range(n_test):\n",
    "        # generate training set\n",
    "        X = np.random.rand(n_sample, n_dim)\n",
    "        y1 = add_noise(f1(X), varnoise)\n",
    "        x_test = np.zeros((1, n_dim))\n",
    "        y_test = f1(x_test)\n",
    "#         print(y_test)\n",
    "\n",
    "        ols_err_list_.append(ols_err(X, y1, x_test, y_test))\n",
    "        knn_err_list_.append(knn_err(X, y1, x_test, y_test))\n",
    "#     print(ols_err_list_)\n",
    "#     print(knn_err_list_)\n",
    "    ols_err_list.append(mse(ols_err_list_))\n",
    "    knn_err_list.append(mse(knn_err_list_))\n"
   ]
  },
  {
   "cell_type": "code",
   "execution_count": 19,
   "metadata": {},
   "outputs": [
    {
     "data": {
      "image/png": "[encoded data removed]",
      "text/plain": [
       "<matplotlib.figure.Figure at 0x7f03a006f8d0>"
      ]
     },
     "metadata": {},
     "output_type": "display_data"
    }
   ],
   "source": [
    "rcParams['font.size'] = 20\n",
    "figure(figsize=(10, 6));\n",
    "plot(dims, ols_err_list, label=\"ols\")\n",
    "plot(dims, knn_err_list, label=\"knn\")\n",
    "xlabel(\"Dimension\")\n",
    "ylabel(\"MSE over {}x{} test sample\".format(n_test, n_sample))\n",
    "legend();"
   ]
  },
  {
   "cell_type": "code",
   "execution_count": null,
   "metadata": {
    "collapsed": true
   },
   "outputs": [],
   "source": []
  }
 ],
 "metadata": {
  "kernelspec": {
   "display_name": "Python [Root]",
   "language": "python",
   "name": "Python [Root]"
  },
  "language_info": {
   "codemirror_mode": {
    "name": "ipython",
    "version": 3
   },
   "file_extension": ".py",
   "mimetype": "text/x-python",
   "name": "python",
   "nbconvert_exporter": "python",
   "pygments_lexer": "ipython3",
   "version": "3.5.2"
  }
 },
 "nbformat": 4,
 "nbformat_minor": 2
}
